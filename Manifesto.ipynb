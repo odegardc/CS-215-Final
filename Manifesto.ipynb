{
 "cells": [
  {
   "attachments": {},
   "cell_type": "markdown",
   "metadata": {},
   "source": [
    "# Data Manifesto\n",
    "Carl Odegard\n"
   ]
  },
  {
   "attachments": {},
   "cell_type": "markdown",
   "metadata": {},
   "source": [
    "### What is data?\n",
    "Data is anything and everything someone is willing to collect. No matter what it is, it can be used as data. The only limitation of data is how we choose to process it. In physical sciences we use data to explore cause and effect to prove an objective understanding. In video games we can analyze patterns and trends from our previous matches to influence our decisions and create informed predictions in the future. The application of data is truly limitless, hindered only by creativity of the analyst. Good data analysis can answer almost any type of question one can think of, unless you need help with an existential crisis. The DIKW pyramid is a model representing the flow of data from raw values and observations to an applicable understanding from “data”, to “information”, “knowledge\" and finally “wisdom”. I believe that this model is flawed. “Information” and “knowledge” are both synonymous with one another. If you replaced knowledge with information in the hierarchy, I believe it would have the same meaning. Information is knowledge and knowledge is information. I believe that the model would be much more intuitive if the knowledge and information levels were condensed into one level titled “interpretation”. That changes the hierarchy of the pyramid to this: Data -> Interpretation -> Wisdom. In my opinion, this fits much better with the process of data science which at its core is collecting raw data, interpreting and observing trends, and finally applying the newly found information for a given purpose. I can apply this model to one of my first data science projects. In the project we wanted to determine the height of one of our group members. We started by collecting data, which included acceleration at a given point in time using the accelerometers in our phones. We then interpreted the data and derived velocity from acceleration and finally displacement from velocity. With the final displacement value we then determined it to be the height of our group member. This follows the general flow of my proposed model, the collection of acceleration and time being the data, the derivation of displacement from the data being the interpretation, and finally the conclusion that the displacement was the height of our group member being wisdom. \n"
   ]
  },
  {
   "attachments": {},
   "cell_type": "markdown",
   "metadata": {},
   "source": [
    "### What makes a successful data scientist?\n",
    "In order to be a successful data scientist, one must look past plain numbers. Data comes in all different forms and can be used in very abstract ways. Analyzing data is not just about proving whether or not there is a trend, but finding out why there is a trend and what does that trend mean. When I analyzed my spotify data in project 8, I noticed that on Fridays I tended to listen to more music than other days on average, so I asked myself why that might be. I boiled the cause down to the fact that I have a lot of freetime on Fridays and spend a lot of time at the gym, where I listen to a lot of music. Finding trends in data is meaningless on its own and data scientists must be able to think beyond what the raw data provides and find a deeper connection elsewhere. Some advice I would give to any aspiring data scientists would be to explore their own personal data that they might find an interest in. By working with something that you are passionate about, your engagement with that thing is much greater than something you don't really care about and that may lead to you being able to find interesting connections between things in your daily life, after all, other than maybe google, you know yourself better than anyone.  \n"
   ]
  },
  {
   "attachments": {},
   "cell_type": "markdown",
   "metadata": {},
   "source": [
    "### My Data Science Process\n",
    "My process for completing a data science related project is to first figure out a question I can answer with a given dataset, or to find a dataset that will help me answer a given question. This question might change later, but it is important to have a general idea of what you want to accomplish before working with your data. Next comes collecting said data either on your own, or from an accurate source. Next is analyzing the data, which includes processing it into a usable format and deriving the necessary information, and locating trends and connections. Finally, go back to your initial question and figure out how the analysis and interpretation of your data helps answer the question. This is the general process that I have followed throughout the duration of this class. "
   ]
  }
 ],
 "metadata": {
  "language_info": {
   "name": "python"
  },
  "orig_nbformat": 4
 },
 "nbformat": 4,
 "nbformat_minor": 2
}
